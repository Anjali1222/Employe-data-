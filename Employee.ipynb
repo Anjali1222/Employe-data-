{
 "cells": [
  {
   "cell_type": "code",
   "execution_count": 1,
   "id": "f51aec7b",
   "metadata": {},
   "outputs": [],
   "source": [
    "class Employee():\n",
    "    \"\"\"This is parent/ Super/ Base class\"\"\"\n",
    "    \n",
    "    def __init__(self,first, last, salary):\n",
    "        self.first=first\n",
    "        self.last=last\n",
    "        self.salary=salary\n",
    "        \n",
    "        self.email=first.lower()+\".\"+last.lower()+\"@itvedant.com\"\n",
    "        \n",
    "        #After this go to first line of code"
   ]
  },
  {
   "cell_type": "code",
   "execution_count": 2,
   "id": "e3ebcbca",
   "metadata": {},
   "outputs": [],
   "source": [
    "class Employee():\n",
    "    \"\"\"This is parent/ Super/ Base class\"\"\"\n",
    "    empcount=0\n",
    "    def __init__(self,first, last, salary):\n",
    "        self.first=first\n",
    "        self.last=last\n",
    "        self.salary=salary\n",
    "        \n",
    "        self.email=first.lower()+\".\"+last.lower()+\"@itvedant.com\"\n",
    "        Employee.empcount+=1\n",
    "        \n",
    "    def display_count(self):\n",
    "        return Employee.empcount\n",
    "    def fullname(self):\n",
    "        return f\"{self.first.title()} {self.last.title()}\"\n",
    "    \n",
    "    #After this go to the second line."
   ]
  },
  {
   "cell_type": "code",
   "execution_count": 1,
   "id": "2d59fc81",
   "metadata": {},
   "outputs": [],
   "source": [
    "class Employee():\n",
    "    \"\"\"This is parent/ Super/ Base class\"\"\"\n",
    "    empcount=0\n",
    "    incamt=1.10\n",
    "    def __init__(self,first, last, salary):\n",
    "        self.first=first\n",
    "        self.last=last\n",
    "        self.salary=salary\n",
    "        \n",
    "        self.email=first.lower()+\".\"+last.lower()+\"@itvedant.com\"\n",
    "        Employee.empcount+=1\n",
    "        \n",
    "    \n",
    "    def fullname(self):\n",
    "        return f\"{self.first.title()} {self.last.title()}\"\n",
    "    def increment(self):\n",
    "        self.salary=self.salary*self.incamt\n",
    "\n",
    "emp1=Employee(\"Anjali\",\"Nimje\",10000)\n",
    "emp2=Employee(\"Anushka\",\"Bhopi\",20000)\n",
    "emp3=Employee(\"Arya\",\"Khan\",30000)\n"
   ]
  },
  {
   "cell_type": "code",
   "execution_count": 2,
   "id": "7fdea8fb",
   "metadata": {},
   "outputs": [
    {
     "data": {
      "text/plain": [
       "'Anjali Nimje'"
      ]
     },
     "execution_count": 2,
     "metadata": {},
     "output_type": "execute_result"
    }
   ],
   "source": [
    "emp1.fullname()"
   ]
  },
  {
   "cell_type": "code",
   "execution_count": 3,
   "id": "bb2d0ec0",
   "metadata": {},
   "outputs": [
    {
     "data": {
      "text/plain": [
       "10000"
      ]
     },
     "execution_count": 3,
     "metadata": {},
     "output_type": "execute_result"
    }
   ],
   "source": [
    "emp1.salary"
   ]
  },
  {
   "cell_type": "code",
   "execution_count": 4,
   "id": "25242557",
   "metadata": {},
   "outputs": [
    {
     "data": {
      "text/plain": [
       "'anjali.nimje@itvedant.com'"
      ]
     },
     "execution_count": 4,
     "metadata": {},
     "output_type": "execute_result"
    }
   ],
   "source": [
    "emp1.email"
   ]
  },
  {
   "cell_type": "code",
   "execution_count": 5,
   "id": "5f9229cc",
   "metadata": {},
   "outputs": [
    {
     "data": {
      "text/plain": [
       "'Anushka Bhopi'"
      ]
     },
     "execution_count": 5,
     "metadata": {},
     "output_type": "execute_result"
    }
   ],
   "source": [
    "emp2.fullname()"
   ]
  },
  {
   "cell_type": "code",
   "execution_count": 6,
   "id": "1ff2e1eb",
   "metadata": {},
   "outputs": [
    {
     "data": {
      "text/plain": [
       "'anushka.bhopi@itvedant.com'"
      ]
     },
     "execution_count": 6,
     "metadata": {},
     "output_type": "execute_result"
    }
   ],
   "source": [
    "emp2.email"
   ]
  },
  {
   "cell_type": "code",
   "execution_count": 7,
   "id": "0c13ecf1",
   "metadata": {},
   "outputs": [
    {
     "data": {
      "text/plain": [
       "3"
      ]
     },
     "execution_count": 7,
     "metadata": {},
     "output_type": "execute_result"
    }
   ],
   "source": [
    "Employee.empcount"
   ]
  },
  {
   "cell_type": "code",
   "execution_count": null,
   "id": "e6cef841",
   "metadata": {},
   "outputs": [],
   "source": []
  }
 ],
 "metadata": {
  "kernelspec": {
   "display_name": "Python 3",
   "language": "python",
   "name": "python3"
  },
  "language_info": {
   "codemirror_mode": {
    "name": "ipython",
    "version": 3
   },
   "file_extension": ".py",
   "mimetype": "text/x-python",
   "name": "python",
   "nbconvert_exporter": "python",
   "pygments_lexer": "ipython3",
   "version": "3.8.8"
  }
 },
 "nbformat": 4,
 "nbformat_minor": 5
}
